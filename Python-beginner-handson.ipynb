{
 "cells": [
  {
   "cell_type": "code",
   "execution_count": null,
   "id": "7f1dd2b5",
   "metadata": {},
   "outputs": [
    {
     "name": "stdout",
     "output_type": "stream",
     "text": [
      "PI: 3.141592653589793\n",
      "Randon Integer: 107957\n"
     ]
    }
   ],
   "source": [
    "import math\n",
    "from random import randint\n",
    "\n",
    "print(\"PI:\",math.pi)\n",
    "print(\"Randon Integer:\", randint(100000,110000))"
   ]
  },
  {
   "cell_type": "code",
   "execution_count": 62,
   "id": "746bbe80",
   "metadata": {},
   "outputs": [
    {
     "name": "stdout",
     "output_type": "stream",
     "text": [
      "Hello Mani\n"
     ]
    }
   ],
   "source": [
    "\n",
    "\n",
    "def greet():\n",
    "    print(\"Hello Mani\")\n",
    "\n",
    "greet()\n",
    "    "
   ]
  },
  {
   "cell_type": "code",
   "execution_count": 66,
   "id": "78141a4d",
   "metadata": {},
   "outputs": [
    {
     "name": "stdout",
     "output_type": "stream",
     "text": [
      "Hello Mani,How are you Umai\n"
     ]
    }
   ],
   "source": [
    "\n",
    "def greet(name,count):\n",
    "    print(\"Hello Mani,\" + name + count)\n",
    "\n",
    "greet(\"How are you\",\" Umai\")"
   ]
  },
  {
   "cell_type": "code",
   "execution_count": 71,
   "id": "af757c98",
   "metadata": {},
   "outputs": [
    {
     "name": "stdout",
     "output_type": "stream",
     "text": [
      "6\n"
     ]
    }
   ],
   "source": [
    "def add_num(a,b):\n",
    "    result = a + b\n",
    "    return(result)\n",
    "\n",
    "sum_result = add_num(5,10)\n",
    "print(add_num(5,1))"
   ]
  },
  {
   "cell_type": "code",
   "execution_count": null,
   "id": "bea47211",
   "metadata": {},
   "outputs": [
    {
     "name": "stdout",
     "output_type": "stream",
     "text": [
      "30\n"
     ]
    }
   ],
   "source": [
    "double_sum = sum_result * 2\n",
    "print(double_sum)\n"
   ]
  },
  {
   "cell_type": "code",
   "execution_count": 2,
   "id": "6951585e",
   "metadata": {},
   "outputs": [
    {
     "name": "stdout",
     "output_type": "stream",
     "text": [
      "8\n"
     ]
    }
   ],
   "source": [
    "#length of string\n",
    "text = \"hai Mani\"\n",
    "print(len(text))"
   ]
  },
  {
   "cell_type": "code",
   "execution_count": 8,
   "id": "0d986335",
   "metadata": {},
   "outputs": [
    {
     "name": "stdout",
     "output_type": "stream",
     "text": [
      "hai python\n"
     ]
    }
   ],
   "source": [
    "# replace\n",
    "text = \"hai Mani\"\n",
    "rpl = text.replace(\"Mani\",\"python\")\n",
    "print(rpl)"
   ]
  },
  {
   "cell_type": "code",
   "execution_count": 17,
   "id": "1594e91e",
   "metadata": {},
   "outputs": [
    {
     "name": "stdout",
     "output_type": "stream",
     "text": [
      "Hello World!\n"
     ]
    }
   ],
   "source": [
    "#strip - Removes any whitespace (spaces, newlines) from the beginning and end of the string.\n",
    "\n",
    "messy_text = \" Hello World! \"\n",
    "right_text = messy_text.strip()\n",
    "print(right_text)"
   ]
  },
  {
   "cell_type": "code",
   "execution_count": 20,
   "id": "2f53d07b",
   "metadata": {},
   "outputs": [
    {
     "name": "stdout",
     "output_type": "stream",
     "text": [
      "['Hai mani', ' how are you']\n"
     ]
    }
   ],
   "source": [
    "# split() Divides a string into a list of substrings based on a specified separator (default is whitespace)\n",
    "\n",
    "org_text = \"Hai mani, how are you\"\n",
    "split_text = org_text.split(\",\")\n",
    "print(split_text)"
   ]
  },
  {
   "cell_type": "code",
   "execution_count": 25,
   "id": "0d089bb9",
   "metadata": {},
   "outputs": [
    {
     "name": "stdout",
     "output_type": "stream",
     "text": [
      "Hai::Mani::Vino\n"
     ]
    }
   ],
   "source": [
    "#join - Combines a list of strings into a single string, with each element separated by the string it was called on.\n",
    "\n",
    "arr_text = ['Hai','Mani','Vino']\n",
    "join_text = \"::\".join(arr_text)\n",
    "print(join_text)"
   ]
  },
  {
   "cell_type": "code",
   "execution_count": 33,
   "id": "47c49357",
   "metadata": {},
   "outputs": [
    {
     "name": "stdout",
     "output_type": "stream",
     "text": [
      "Hai Mani\n",
      " how are you\n"
     ]
    }
   ],
   "source": [
    "#Slicing - Extracts parts of a string by specifying a range of indices.\n",
    "\n",
    "org_text = \"Hai Mani, how are you\"\n",
    "print(org_text[0:8])\n",
    "print(org_text[-12:])\n",
    "\n",
    "#text[start:end] extracts the substring starting at index start and ending at end-1.\n",
    "\n",
    "#Negative indices start from the end, so text[-6:] extracts from the sixth-to-last character to the end."
   ]
  },
  {
   "cell_type": "code",
   "execution_count": 43,
   "id": "12154c6f",
   "metadata": {},
   "outputs": [
    {
     "name": "stdout",
     "output_type": "stream",
     "text": [
      "hai mani how are you.this is a long text\n",
      "This is a string\n",
      "that contains multiple lines,\n",
      "It also handles quotes, like \"this one\" and 'that one'.\n"
     ]
    },
    {
     "data": {
      "text/plain": [
       "'Hello, mani -This is a placeholder!'"
      ]
     },
     "execution_count": 43,
     "metadata": {},
     "output_type": "execute_result"
    }
   ],
   "source": [
    "# Backslash \\ - Use it at the end of each line to continue the string onto the next line without adding a line break.\n",
    "\n",
    "long_text = \"hai mani how are you.\\\n",
    "this is a long text\"\n",
    "print(long_text)\n",
    "\n",
    "#Triple Quotes ''' or \"\"\" - Use triple quotes for a string that spans multiple lines and includes line breaks.\n",
    "multi_line_quote = \"\"\"This is a string\n",
    "that contains multiple lines,\n",
    "It also handles quotes, like \"this one\" and 'that one'.\"\"\"\n",
    "print(multi_line_quote)\n",
    "\n",
    "#Triple-quoted strings are commonly used in Python as docstrings, which are comments that describe what a function, class, or module does. \n",
    "# They are placed immediately after the function or class definition.\n",
    "def greet(name):\n",
    "    \"\"\"\n",
    "    This function takes a name as input and returns a greeting string.\n",
    "\n",
    "    Parameters:\n",
    "    {name}: The name of the person to greet.\n",
    "\n",
    "    Returns:\n",
    "    str: A greeting message.\n",
    "    \"\"\"\n",
    "    return f\"Hello, {name} -This is a placeholder!\"\n",
    "\n",
    "greet(\"mani\")\n",
    "\n"
   ]
  },
  {
   "cell_type": "code",
   "execution_count": 53,
   "id": "87e7ec69",
   "metadata": {},
   "outputs": [
    {
     "name": "stdout",
     "output_type": "stream",
     "text": [
      "Hello, my name is mani and I am 30 years old.\n",
      "The area of a 5x10 rectangle is 50.\n",
      "The price is $1,234,567.89\n"
     ]
    }
   ],
   "source": [
    "def greet(name,age):\n",
    "    message = f\"Hello, my name is {name} and I am {age} years old.\"\n",
    "    print(message)\n",
    "\n",
    "greet(\"mani\",\"30\")\n",
    "\n",
    "width = 5\n",
    "height = 10\n",
    "area_message = f\"The area of a {width}x{height} rectangle is {width * height}.\"\n",
    "print(area_message)\n",
    "\n",
    "\n",
    "price = 1234567.8912\n",
    "formatted_price = f\"The price is ${price:,.2f}\"\n",
    "print(formatted_price)\n",
    "\n"
   ]
  },
  {
   "cell_type": "code",
   "execution_count": 59,
   "id": "3cb33f3b",
   "metadata": {},
   "outputs": [
    {
     "name": "stdout",
     "output_type": "stream",
     "text": [
      "Today's date is August 17, 2025.\n"
     ]
    }
   ],
   "source": [
    "from datetime import datetime\n",
    "\n",
    "current_date = datetime.now()\n",
    "formatted_date = f\"Today's date is {current_date:%B %d, %Y}.\"\n",
    "print(formatted_date)\n",
    "\n",
    "#Here’s what’s happening in {current_date:%B %d, %Y}:\n",
    "\n",
    "# %B represents the full month name (e.g., \"November\").\n",
    "\n",
    "# %d is the day of the month (with leading zero if necessary).\n",
    "\n",
    "# %Y is the four-digit year."
   ]
  },
  {
   "cell_type": "code",
   "execution_count": null,
   "id": "897fc0af",
   "metadata": {},
   "outputs": [
    {
     "name": "stdout",
     "output_type": "stream",
     "text": [
      "Apple\n",
      "Orange\n",
      "['Apple', 'Banana', 'Orange', 'Grapes']\n",
      "['Apple', 'Banana', 'Grapes']\n",
      "['Banana', 'Grapes']\n"
     ]
    }
   ],
   "source": [
    "# LISTS\n",
    "\n",
    "fruits = [\"Apple\",\"Banana\",\"Orange\"]\n",
    "\n",
    "print(fruits[0])\n",
    "print(fruits[2])\n",
    "\n",
    "fruits.append(\"Grapes\")\n",
    "print(fruits)\n",
    "\n",
    "fruits.remove(\"Orange\")\n",
    "print(fruits)\n",
    "\n",
    "fruits.remove(fruits[0])\n",
    "print(fruits)"
   ]
  },
  {
   "cell_type": "code",
   "execution_count": 86,
   "id": "e61362e4",
   "metadata": {},
   "outputs": [
    {
     "name": "stdout",
     "output_type": "stream",
     "text": [
      "Mani\n",
      "34\n",
      "{'name': 'Mani', 'age': 34, 'city': 'Salem', 'job': 'Engineer'}\n",
      "{'name': 'Mani', 'age': 34, 'city': 'Chennai', 'job': 'Engineer'}\n",
      "Person name is - Mani\n",
      "living in - Chennai\n",
      "not found\n"
     ]
    }
   ],
   "source": [
    "# DICTIONARIES\n",
    "\n",
    "person = {\n",
    "    \"name\": \"Mani\",\n",
    "    \"age\" : 34,\n",
    "    \"city\": \"Salem\"\n",
    "}\n",
    "print(person[\"name\"])\n",
    "print(person[\"age\"])\n",
    "\n",
    "person[\"job\"] = \"Engineer\"\n",
    "print(person)\n",
    "\n",
    "person[\"city\"] = \"Chennai\"\n",
    "print(person)\n",
    "\n",
    "# access dict by key\n",
    "\n",
    "print(\"Person name is -\",person.get(\"name\"))\n",
    "print(\"living in -\",person.get(\"city\"))\n",
    "\n",
    "#returns not found if KEY doesn't exists\n",
    "print(person.get(\"COUNTRY\", \"not found\"))"
   ]
  },
  {
   "cell_type": "code",
   "execution_count": 88,
   "id": "7f2575a8",
   "metadata": {},
   "outputs": [
    {
     "name": "stdout",
     "output_type": "stream",
     "text": [
      "{'blue', 'yellow', 'red', 'green'}\n",
      "{'blue', 'yellow', 'red', 'green'}\n",
      "{'blue', 'yellow', 'red'}\n"
     ]
    }
   ],
   "source": [
    "# Creating a set of colors\n",
    "colors = {\"red\", \"green\", \"blue\"}\n",
    "\n",
    "# Adding an item\n",
    "colors.add(\"yellow\")\n",
    "print(colors)  # Output: {'red', 'green', 'blue', 'yellow'}\n",
    "\n",
    "# Trying to add a duplicate item\n",
    "colors.add(\"red\")\n",
    "print(colors)  # Output: {'red', 'green', 'blue', 'yellow'} (no duplicate)\n",
    "\n",
    "# Removing an item\n",
    "colors.remove(\"green\")\n",
    "print(colors)  # Output: {'red', 'blue', 'yellow'}\n"
   ]
  },
  {
   "cell_type": "code",
   "execution_count": 95,
   "id": "facd7278",
   "metadata": {},
   "outputs": [
    {
     "name": "stdout",
     "output_type": "stream",
     "text": [
      "Hello Mani!Hello Mani!Hello Mani!\n",
      "Hello Mani!\n",
      "Hello Mani!\n",
      "Hello Mani!\n",
      "Hello Mani!\n"
     ]
    }
   ],
   "source": [
    "# file operation\n",
    "\n",
    "with open('output.txt','a',encoding='utf-8') as file:\n",
    "    file.write(\"\\nHello Mani!\")\n",
    "\n",
    "with open('output.txt','r',encoding='utf-8') as file:\n",
    "    content = file.read()\n",
    "    print(content)"
   ]
  },
  {
   "cell_type": "code",
   "execution_count": 97,
   "id": "353c2fc2",
   "metadata": {},
   "outputs": [
    {
     "name": "stdout",
     "output_type": "stream",
     "text": [
      "Hello Mani!Hello Mani!Hello Mani!\n",
      "\n",
      "Hello Mani!\n",
      "\n",
      "Hello Mani!\n",
      "\n",
      "Hello Mani!\n",
      "\n",
      "Hello Mani!\n"
     ]
    }
   ],
   "source": [
    "with open('output.txt','r',encoding='utf-8') as file:\n",
    "    for line in file:\n",
    "        print(line)"
   ]
  },
  {
   "cell_type": "code",
   "execution_count": 111,
   "id": "33bc7c4c",
   "metadata": {},
   "outputs": [
    {
     "name": "stdout",
     "output_type": "stream",
     "text": [
      "folder\\subfolder\\output.txt\n"
     ]
    }
   ],
   "source": [
    "import os\n",
    "from pathlib import Path\n",
    "\n",
    "file_path = Path('folder') / 'subfolder' / 'output.txt'\n",
    "\n",
    "print(file_path)\n",
    "\n",
    "#file_path = os.path.join('C:\\Users\\Ammu\\Desktop\\Projects\\Training\\Jupyter','subfolder','output.txt')\n",
    "#print(file_path)"
   ]
  },
  {
   "cell_type": "code",
   "execution_count": 125,
   "id": "52a18590",
   "metadata": {},
   "outputs": [
    {
     "name": "stdout",
     "output_type": "stream",
     "text": [
      "['output.txt']\n",
      "['output.txt', 'New folder\\\\output - Copy.txt', 'New folder\\\\output.txt']\n"
     ]
    }
   ],
   "source": [
    "import glob\n",
    "\n",
    "# List all .txt files in the current directory\n",
    "txt_files = glob.glob('*.txt')\n",
    "print(txt_files)\n",
    "\n",
    "# List all .txt files in current directory and subdirectories\n",
    "all_txt_files = glob.glob('**/*.txt', recursive=True)\n",
    "print(all_txt_files)\n"
   ]
  },
  {
   "cell_type": "code",
   "execution_count": 129,
   "id": "088de350",
   "metadata": {},
   "outputs": [
    {
     "name": "stdout",
     "output_type": "stream",
     "text": [
      "Text files in the 'data' directory: ['data\\\\output.txt']\n"
     ]
    }
   ],
   "source": [
    "from pathlib import Path\n",
    "import glob\n",
    "\n",
    "# Define file paths using pathlib\n",
    "input_file = Path('input.txt')\n",
    "output_file = Path('data') / 'output.txt'\n",
    "\n",
    "# Ensure the directory exists\n",
    "output_file.parent.mkdir(parents=True, exist_ok=True)\n",
    "\n",
    "# Read the input file and write to the output file\n",
    "if input_file.exists():\n",
    "    with open(input_file, 'r', encoding='utf-8') as infile, \\\n",
    "         open(output_file, 'w', encoding='utf-8') as outfile:\n",
    "        for line in infile:\n",
    "            outfile.write(line.upper())  # Example: Write uppercase content\n",
    "else:\n",
    "    print(f\"File {input_file} not found.\")\n",
    "\n",
    "# List all text files in the directory\n",
    "txt_files = glob.glob(str(Path('data') / '*.txt'))\n",
    "print(\"Text files in the 'data' directory:\", txt_files)\n"
   ]
  },
  {
   "cell_type": "code",
   "execution_count": 144,
   "id": "9f1c1f79",
   "metadata": {},
   "outputs": [
    {
     "name": "stdout",
     "output_type": "stream",
     "text": [
      "Buddy\n",
      "3\n",
      "Buddy says woof!\n"
     ]
    }
   ],
   "source": [
    "class Dog:\n",
    "    def __init__(self, name, age):\n",
    "        self.name = name\n",
    "        self.age = age\n",
    "\n",
    "    def speak(self):\n",
    "        print(f\"{self.name} says woof!\")\n",
    "\n",
    "my_dog = Dog(\"Buddy\", 3)\n",
    "print(my_dog.name)  # Output: Buddy\n",
    "print(my_dog.age)   # Output: 3\n",
    "my_dog.speak()      # Output: Buddy says woof!\n",
    "\n"
   ]
  },
  {
   "cell_type": "code",
   "execution_count": 148,
   "id": "925d0e5e",
   "metadata": {},
   "outputs": [
    {
     "name": "stdout",
     "output_type": "stream",
     "text": [
      "Missing\n",
      "Missing by Mani has 10 pages\n"
     ]
    }
   ],
   "source": [
    "class book:\n",
    "    def __init__(self,title,author,pages):\n",
    "        self.title = title\n",
    "        self.author = author\n",
    "        self.pages = pages\n",
    "\n",
    "    def summery(self):\n",
    "        print(f'{self.title} by {self.author} has {self.pages} pages')\n",
    "\n",
    "mybooks = book(\"Missing\",\"Mani\",10)\n",
    "print(mybooks.title)\n",
    "mybooks.summery()\n"
   ]
  },
  {
   "cell_type": "code",
   "execution_count": 154,
   "id": "0ec0d525",
   "metadata": {},
   "outputs": [
    {
     "name": "stdout",
     "output_type": "stream",
     "text": [
      "2021 Toyota Camry\n",
      "The engine of the Camry is now running.\n"
     ]
    },
    {
     "data": {
      "text/plain": [
       "'2021 Toyota Camry'"
      ]
     },
     "execution_count": 154,
     "metadata": {},
     "output_type": "execute_result"
    }
   ],
   "source": [
    "class Car:\n",
    "    def __init__(self, make, model, year):\n",
    "        self.make = make\n",
    "        self.model = model\n",
    "        self.year = year\n",
    "\n",
    "    def description(self):\n",
    "        return f\"{self.year} {self.make} {self.model}\"\n",
    "\n",
    "    def start_engine(self):\n",
    "        print(f\"The engine of the {self.model} is now running.\")\n",
    "\n",
    "# Creating a Car object\n",
    "my_car = Car(\"Toyota\", \"Camry\", 2021)\n",
    "\n",
    "# Accessing attributes and calling methods\n",
    "print(my_car.description())  # Output: 2021 Toyota Camry\n",
    "my_car.start_engine()  \n",
    "my_car.description()      # Output: The engine of the Camry is now running.\n"
   ]
  },
  {
   "cell_type": "code",
   "execution_count": 165,
   "id": "4ad43725",
   "metadata": {},
   "outputs": [
    {
     "name": "stdout",
     "output_type": "stream",
     "text": [
      "Data saved as JSON. {'name': 'Mani', 'age': 30, 'hobbies': ['reading', 'cycling']}\n"
     ]
    }
   ],
   "source": [
    "import json\n",
    "\n",
    "# Example dictionary\n",
    "data = {\"name\": \"Mani\", \"age\": 30, \"hobbies\": [\"reading\", \"cycling\"]}\n",
    "\n",
    "# Save to a JSON file\n",
    "with open(\"data.json\", \"w\") as file:\n",
    "    json.dump(data, file)\n",
    "\n",
    "print(\"Data saved as JSON.\",data)\n"
   ]
  },
  {
   "cell_type": "code",
   "execution_count": 174,
   "id": "ea29ebff",
   "metadata": {},
   "outputs": [
    {
     "name": "stdout",
     "output_type": "stream",
     "text": [
      "JSON String: {\"name\": \"Mani\", \"age\": 30, \"hobbies\": [\"reading\", \"cycling\"]}\n",
      "Python Object: {'name': 'Mani', 'age': 30, 'hobbies': ['reading', 'cycling']}\n"
     ]
    }
   ],
   "source": [
    "# Convert Python object to JSON string\n",
    "json_string = json.dumps(data)\n",
    "print(\"JSON String:\", json_string)\n",
    "\n",
    "# Convert JSON string back to Python object\n",
    "python_obj = json.loads(json_string)\n",
    "print(\"Python Object:\", python_obj)\n",
    "\n"
   ]
  },
  {
   "cell_type": "code",
   "execution_count": 177,
   "id": "3e031a32",
   "metadata": {},
   "outputs": [
    {
     "name": "stdout",
     "output_type": "stream",
     "text": [
      "Pickle Loaded: {'name': 'Mani', 'age': 30, 'hobbies': ['reading', 'cycling']}\n",
      "JSON Loaded: {'name': 'Mani', 'age': 30, 'hobbies': ['reading', 'cycling']}\n"
     ]
    }
   ],
   "source": [
    "import pickle\n",
    "import json\n",
    "# Pickling example\n",
    "with open(\"data.pkl\", \"wb\") as f:\n",
    "    pickle.dump(data, f)  # Save as binary\n",
    "\n",
    "with open(\"data.pkl\", \"rb\") as f:\n",
    "    loaded_data = pickle.load(f)  # Load from binary\n",
    "print(\"Pickle Loaded:\", loaded_data)\n",
    "\n",
    "# JSON example\n",
    "with open(\"data.json\", \"w\") as f:\n",
    "    json.dump(data, f)  # Save as JSON\n",
    "\n",
    "with open(\"data.json\", \"r\") as f:\n",
    "    loaded_data = json.load(f)  # Load from JSON\n",
    "print(\"JSON Loaded:\", loaded_data)\n"
   ]
  },
  {
   "cell_type": "code",
   "execution_count": 185,
   "id": "4398ea00",
   "metadata": {},
   "outputs": [
    {
     "name": "stdout",
     "output_type": "stream",
     "text": [
      "1001\n",
      "1003\n",
      "1005\n",
      "1007\n",
      "1009\n"
     ]
    }
   ],
   "source": [
    "def number_generator():\n",
    "    for i in range(1000, 1010):\n",
    "        yield i\n",
    "\n",
    "# Create a generator\n",
    "gen = number_generator()\n",
    "\n",
    "# Use a loop to get values from the generator\n",
    "for number in gen:\n",
    "    print(next(gen)) \n",
    "    \n"
   ]
  }
 ],
 "metadata": {
  "kernelspec": {
   "display_name": "llms",
   "language": "python",
   "name": "python3"
  },
  "language_info": {
   "codemirror_mode": {
    "name": "ipython",
    "version": 3
   },
   "file_extension": ".py",
   "mimetype": "text/x-python",
   "name": "python",
   "nbconvert_exporter": "python",
   "pygments_lexer": "ipython3",
   "version": "3.11.13"
  }
 },
 "nbformat": 4,
 "nbformat_minor": 5
}
